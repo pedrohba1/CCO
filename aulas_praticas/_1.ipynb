{
 "cells": [
  {
   "cell_type": "code",
   "execution_count": 189,
   "id": "69cbdc5d",
   "metadata": {},
   "outputs": [],
   "source": [
    "import latexify\n",
    "import math"
   ]
  },
  {
   "cell_type": "markdown",
   "id": "02e54830",
   "metadata": {},
   "source": [
    "<h2> Método FPM </h2>"
   ]
  },
  {
   "cell_type": "code",
   "execution_count": 190,
   "id": "bb6aae2f",
   "metadata": {},
   "outputs": [
    {
     "data": {
      "text/latex": [
       "$$ \\displaystyle \\mathrm{pondera}(a, b, x1, x2, f)\\triangleq \\left\\{ \\begin{array}{ll} \\frac{a\\left|{\\mathrm{f}\\left(b\\right)}\\right| + b\\left|{\\frac{\\mathrm{f}\\left(a\\right)}{2}}\\right|}{\\left|{\\mathrm{f}\\left(b\\right)}\\right| + \\left|{\\frac{\\mathrm{f}\\left(a\\right)}{2}}\\right|}, & \\mathrm{if} \\ \\left(\\mathrm{f}\\left(x1\\right)\\mathrm{f}\\left(x2\\right)>0\\right)\\land \\left(\\mathrm{f}\\left(a\\right)\\mathrm{f}\\left(x1\\right)<0\\right) \\\\ \\frac{a\\left|{\\frac{\\mathrm{f}\\left(b\\right)}{2}}\\right| + b\\left|{\\mathrm{f}\\left(a\\right)}\\right|}{\\left|{\\frac{\\mathrm{f}\\left(b\\right)}{2}}\\right| + \\left|{\\mathrm{f}\\left(a\\right)}\\right|}, & \\mathrm{if} \\ \\left(\\mathrm{f}\\left(x1\\right)\\mathrm{f}\\left(x2\\right)>0\\right)\\land \\left(\\mathrm{f}\\left(a\\right)\\mathrm{f}\\left(x1\\right)\\ge 0\\right) \\\\ \\frac{a\\left|{\\mathrm{f}\\left(b\\right)}\\right| + b\\left|{\\mathrm{f}\\left(a\\right)}\\right|}{\\left|{\\mathrm{f}\\left(b\\right)}\\right| + \\left|{\\mathrm{f}\\left(a\\right)}\\right|}, & \\mathrm{otherwise} \\end{array} \\right. $$"
      ],
      "text/plain": [
       "<latexify.core.with_latex.<locals>._LatexifiedFunction at 0x7f97381ad4f0>"
      ]
     },
     "execution_count": 190,
     "metadata": {},
     "output_type": "execute_result"
    }
   ],
   "source": [
    "@latexify.with_latex\n",
    "def pondera(a,b,x1,x2, f):\n",
    "    if f(x1) * f(x2) >0 and f(a)* f(x1) <0:\n",
    "        return (a*abs(f(b)) + b*abs(f(a)/2))/ (abs(f(b)) + abs(f(a)/2)) \n",
    "    elif f(x1) * f(x2) >0 and f(a)* f(x1) >=0:\n",
    "        return (a*abs(f(b)/2) + b*abs(f(a)))/ (abs(f(b)/2) + abs(f(a)))\n",
    "    else: \n",
    "        return (a*abs(f(b)) + b*abs(f(a)))/ (abs(f(b)) + abs(f(a))) \n",
    "pondera\n"
   ]
  },
  {
   "cell_type": "code",
   "execution_count": 191,
   "id": "62670411",
   "metadata": {},
   "outputs": [],
   "source": [
    "\n",
    "def FPM(a,b,err, func):\n",
    "    iterations = 1\n",
    "    maxIterations = 1000\n",
    "    \n",
    "    apply = True\n",
    "        \n",
    "    # condições de aplicação:\n",
    "    # f(a0) < 0\n",
    "    # f(b0) > 0\n",
    "    # f(a)*f(b) <0\n",
    "    # se algum dos dois for falso, não continua\n",
    "    \n",
    "    if (func(a) >= 0):\n",
    "        apply = False\n",
    "    if (func(b) <= 0):\n",
    "        apply = False\n",
    "    if (func(a) * func(b) >= 0):\n",
    "        apply: False\n",
    "    \n",
    "\n",
    "           \n",
    "    x1 = pondera(a,b,1,1,func)\n",
    "    if abs(func(x1)) <= err:\n",
    "        print(\"intervalo {}-{}  raíz encontrada: {}\".format(a, b,x1))\n",
    "        return a,b,x1\n",
    "\n",
    "    \n",
    "    # definição do primeiro intervalo\n",
    "    if func(a) * func(x1) < 0:\n",
    "        b = x1\n",
    "    else: a = x1\n",
    "    \n",
    "    x2 = pondera(a,b,x1,1, func)\n",
    "    \n",
    "    while apply:\n",
    "        if iterations > maxIterations: \n",
    "            print(\"excedeu limite\")\n",
    "            return\n",
    "\n",
    "        if abs(func(x2)) <= err:\n",
    "            print(\"iteração final {}, intervalo [{:.3f}, {:.3f}] raíz: {:.3f}\".format(iterations, a, b,x2))\n",
    "            return a,b,x2\n",
    "\n",
    "        if func(a) * func(x2) < 0:\n",
    "            b = x2\n",
    "        else: a = x2\n",
    "\n",
    "        # definição de novo x\n",
    "        x2 = pondera(a,b,x1,x2, func)\n",
    "\n",
    "        print(\"iteração {}, intervalo [{:.3f}, {:.3f}] x2: {:.3f}\".format(iterations, a, b,x2))\n",
    "        iterations +=1\n",
    "            \n",
    "    return x1\n",
    "\n",
    "\n"
   ]
  },
  {
   "cell_type": "markdown",
   "id": "98c8e75c",
   "metadata": {},
   "source": [
    "## Testando com alguns Polinômios diferentes:"
   ]
  },
  {
   "cell_type": "code",
   "execution_count": 192,
   "id": "14fd52f4",
   "metadata": {},
   "outputs": [
    {
     "data": {
      "text/latex": [
       "$$ \\displaystyle \\mathrm{P2}(x)\\triangleq x^{3} - x - 1 $$"
      ],
      "text/plain": [
       "<latexify.core.with_latex.<locals>._LatexifiedFunction at 0x7f9738194d30>"
      ]
     },
     "execution_count": 192,
     "metadata": {},
     "output_type": "execute_result"
    }
   ],
   "source": [
    "@latexify.with_latex\n",
    "def P2(x):\n",
    "    return (x**3) -x -1\n",
    "P2"
   ]
  },
  {
   "cell_type": "code",
   "execution_count": 193,
   "id": "bce57d87",
   "metadata": {},
   "outputs": [
    {
     "name": "stdout",
     "output_type": "stream",
     "text": [
      "iteração 1, intervalo [1.286, 1.329] x2: 1.325\n",
      "iteração final 2, intervalo [1.286, 1.329] raíz: 1.325\n"
     ]
    },
    {
     "data": {
      "text/plain": [
       "(1.2857142857142858, 1.3287671232876712, 1.3245672152565902)"
      ]
     },
     "execution_count": 193,
     "metadata": {},
     "output_type": "execute_result"
    }
   ],
   "source": [
    "a0 = 1\n",
    "b0 = 2\n",
    "err = 0.002\n",
    "\n",
    "FPM(a0,b0,err,P2)"
   ]
  },
  {
   "cell_type": "code",
   "execution_count": 194,
   "id": "ea5979ea",
   "metadata": {},
   "outputs": [
    {
     "data": {
      "text/latex": [
       "$$ \\displaystyle \\mathrm{P}(x)\\triangleq 3x^{5} + x - 5 $$"
      ],
      "text/plain": [
       "<latexify.core.with_latex.<locals>._LatexifiedFunction at 0x7f97381ada30>"
      ]
     },
     "execution_count": 194,
     "metadata": {},
     "output_type": "execute_result"
    }
   ],
   "source": [
    "@latexify.with_latex\n",
    "def P(x):\n",
    "    return 3*(x**5) +x -5\n",
    "P"
   ]
  },
  {
   "cell_type": "code",
   "execution_count": 195,
   "id": "78ed7d1c",
   "metadata": {},
   "outputs": [
    {
     "name": "stdout",
     "output_type": "stream",
     "text": [
      "iteração 1, intervalo [1.035, 2.000] x2: 1.043\n",
      "iteração 2, intervalo [1.043, 2.000] x2: 1.048\n",
      "iteração 3, intervalo [1.048, 2.000] x2: 1.051\n",
      "iteração 4, intervalo [1.051, 2.000] x2: 1.053\n",
      "iteração 5, intervalo [1.053, 2.000] x2: 1.054\n",
      "iteração 6, intervalo [1.054, 2.000] x2: 1.055\n",
      "iteração 7, intervalo [1.055, 2.000] x2: 1.056\n",
      "iteração 8, intervalo [1.056, 2.000] x2: 1.056\n",
      "iteração 9, intervalo [1.056, 2.000] x2: 1.056\n",
      "iteração 10, intervalo [1.056, 2.000] x2: 1.056\n",
      "iteração 11, intervalo [1.056, 2.000] x2: 1.056\n",
      "iteração final 12, intervalo [1.056, 2.000] raíz: 1.056\n"
     ]
    },
    {
     "data": {
      "text/plain": [
       "(1.0560904675826004, 2, 1.0561457613779548)"
      ]
     },
     "execution_count": 195,
     "metadata": {},
     "output_type": "execute_result"
    }
   ],
   "source": [
    "a0 = 1\n",
    "b0 = 2\n",
    "err = 0.002\n",
    "\n",
    "FPM(a0,b0,err,P)"
   ]
  },
  {
   "cell_type": "code",
   "execution_count": 196,
   "id": "15a3de81",
   "metadata": {},
   "outputs": [
    {
     "data": {
      "text/latex": [
       "$$ \\displaystyle \\mathrm{P3}(x)\\triangleq x\\log{\\left({x, 10}\\right)} - 1 $$"
      ],
      "text/plain": [
       "<latexify.core.with_latex.<locals>._LatexifiedFunction at 0x7f97381ad220>"
      ]
     },
     "execution_count": 196,
     "metadata": {},
     "output_type": "execute_result"
    }
   ],
   "source": [
    "@latexify.with_latex\n",
    "def P3(x):\n",
    "    return x*math.log(x,10) -1\n",
    "P3"
   ]
  },
  {
   "cell_type": "code",
   "execution_count": 197,
   "id": "3cb4d045",
   "metadata": {},
   "outputs": [
    {
     "name": "stdout",
     "output_type": "stream",
     "text": [
      "iteração 1, intervalo [2.498, 2.649] x2: 2.506\n",
      "iteração final 2, intervalo [2.498, 2.649] raíz: 2.506\n"
     ]
    },
    {
     "data": {
      "text/plain": [
       "(2.4979471094924426, 2.648510124344915, 2.5060659801703435)"
      ]
     },
     "execution_count": 197,
     "metadata": {},
     "output_type": "execute_result"
    }
   ],
   "source": [
    "a0 = 2\n",
    "b0 = 3\n",
    "err = 0.002\n",
    "\n",
    "FPM(a0,b0,err,P3)"
   ]
  }
 ],
 "metadata": {
  "kernelspec": {
   "display_name": "Python 3 (ipykernel)",
   "language": "python",
   "name": "python3"
  },
  "language_info": {
   "codemirror_mode": {
    "name": "ipython",
    "version": 3
   },
   "file_extension": ".py",
   "mimetype": "text/x-python",
   "name": "python",
   "nbconvert_exporter": "python",
   "pygments_lexer": "ipython3",
   "version": "3.8.10"
  }
 },
 "nbformat": 4,
 "nbformat_minor": 5
}
