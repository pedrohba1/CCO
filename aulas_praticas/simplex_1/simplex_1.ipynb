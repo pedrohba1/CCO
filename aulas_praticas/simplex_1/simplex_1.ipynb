{
 "cells": [
  {
   "cell_type": "code",
   "execution_count": null,
   "metadata": {},
   "outputs": [],
   "source": []
  },
  {
   "attachments": {},
   "cell_type": "markdown",
   "metadata": {},
   "source": [
    "Max Z. 6x1 + 8x2\n",
    "\n",
    "4x1 + 9x2 <= 400\n",
    "10x1 + 6x1 <= 600\n",
    "\n",
    "\n",
    "Isolar o Z:\n",
    "\n",
    "-6x1 -8x2 + xf1 + xf2 = Z\n",
    "\n",
    "\n",
    "Adicionar variável de folga\n",
    "\n",
    "4x1 + 9x2 + xf1 = 400\n",
    "\n",
    "10x1 + 6x1 + xf2 = 600\n",
    "\n"
   ]
  },
  {
   "attachments": {},
   "cell_type": "markdown",
   "metadata": {},
   "source": [
    "| Z | x1 | x2 | xf1 | xf2 | b | b/x2 |\n",
    "| --- | --- | --- | --- | --- | --- | --- |\n",
    "| 0 | 4 | 9 | 1 | 0 | 400 | 44.44 |\n",
    "| 0 | 10 | 6 | 0 | 1 | 600 | 100 |\n",
    "| 1 | -6 | -8 | 0 | 0 | 0 | \n"
   ]
  },
  {
   "cell_type": "markdown",
   "metadata": {},
   "source": []
  }
 ],
 "metadata": {
  "kernelspec": {
   "display_name": "Python 3",
   "language": "python",
   "name": "python3"
  },
  "language_info": {
   "codemirror_mode": {
    "name": "ipython",
    "version": 3
   },
   "file_extension": ".py",
   "mimetype": "text/x-python",
   "name": "python",
   "nbconvert_exporter": "python",
   "pygments_lexer": "ipython3",
   "version": "3.8.10"
  },
  "orig_nbformat": 4,
  "vscode": {
   "interpreter": {
    "hash": "916dbcbb3f70747c44a77c7bcd40155683ae19c65e1c03b4aa3499c5328201f1"
   }
  }
 },
 "nbformat": 4,
 "nbformat_minor": 2
}
