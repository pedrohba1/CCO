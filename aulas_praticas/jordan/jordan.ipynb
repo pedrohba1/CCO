{
 "cells": [
  {
   "cell_type": "markdown",
   "id": "a51e8e94",
   "metadata": {},
   "source": [
    "# Sistema linear pelo método de Jordan"
   ]
  },
  {
   "cell_type": "code",
   "execution_count": 2,
   "id": "2162c59f",
   "metadata": {},
   "outputs": [],
   "source": [
    "import numpy as np"
   ]
  },
  {
   "cell_type": "code",
   "execution_count": 17,
   "id": "7a1384c9",
   "metadata": {
    "vscode": {
     "languageId": "plaintext"
    }
   },
   "outputs": [],
   "source": [
    "\n",
    "# mesma matriz que tem nas aulas\n",
    "matriz = [\n",
    "     [5,2,3,2],\n",
    "    [1,5,1,5],\n",
    "    [2,3,2,4]\n",
    "]"
   ]
  },
  {
   "cell_type": "code",
   "execution_count": 18,
   "id": "542fb8f3",
   "metadata": {},
   "outputs": [],
   "source": [
    "def pivota(La, Lb,  numerand, pivot):\n",
    "    print(La, Lb)\n",
    "    Lb = np.array(Lb) - ((numerand/pivot)* np.array(La)) \n",
    "    return Lb\n"
   ]
  },
  {
   "cell_type": "code",
   "execution_count": 22,
   "id": "91abf3c6",
   "metadata": {
    "vscode": {
     "languageId": "plaintext"
    }
   },
   "outputs": [
    {
     "name": "stdout",
     "output_type": "stream",
     "text": [
      "[5, 2, 3, 2] [1, 5, 1, 5]\n",
      "[0.  4.6 0.4 4.6]\n"
     ]
    }
   ],
   "source": [
    "def jordan(m):\n",
    "        l2 = pivota(m[0], m[1], m[1][0], m[0][0])\n",
    "        print(l2)\n",
    "\n",
    "jordan(matriz)\n"
   ]
  },
  {
   "cell_type": "code",
   "execution_count": null,
   "id": "dd324c14",
   "metadata": {},
   "outputs": [],
   "source": []
  },
  {
   "cell_type": "code",
   "execution_count": null,
   "id": "429682bf",
   "metadata": {},
   "outputs": [],
   "source": []
  }
 ],
 "metadata": {
  "kernelspec": {
   "display_name": "Python 3 (ipykernel)",
   "language": "python",
   "name": "python3"
  },
  "language_info": {
   "codemirror_mode": {
    "name": "ipython",
    "version": 3
   },
   "file_extension": ".py",
   "mimetype": "text/x-python",
   "name": "python",
   "nbconvert_exporter": "python",
   "pygments_lexer": "ipython3",
   "version": "3.8.10"
  }
 },
 "nbformat": 4,
 "nbformat_minor": 5
}
