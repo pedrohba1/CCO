{
 "cells": [
  {
   "cell_type": "markdown",
   "id": "a51e8e94",
   "metadata": {},
   "source": [
    "# Sistema linear pelo método de Jordan"
   ]
  },
  {
   "cell_type": "code",
   "execution_count": 84,
   "id": "a377ac5d",
   "metadata": {},
   "outputs": [],
   "source": [
    "import numpy as np"
   ]
  },
  {
   "cell_type": "code",
   "execution_count": 85,
   "id": "7a1384c9",
   "metadata": {
    "vscode": {
     "languageId": "plaintext"
    }
   },
   "outputs": [],
   "source": [
    "\n",
    "# mesma matriz que tem nas aulas\n",
    "matriz = np.array([\n",
    "     [5,2,3,2],\n",
    "    [1,5,1,1],\n",
    "    [2,3,2,4]\n",
    "]).astype(float)"
   ]
  },
  {
   "cell_type": "code",
   "execution_count": 86,
   "id": "de693bb2",
   "metadata": {},
   "outputs": [],
   "source": [
    "def pivota(La, Lb,  numerand, pivot):\n",
    "    Lb = np.array(Lb) - ((numerand/pivot)* np.array(La)) \n",
    "    return Lb\n",
    "\n",
    "def aplicaLinha(matrix, a,b):\n",
    "    return pivota(matrix[a], matrix[b], matrix[b][a], matrix[a][a])\n"
   ]
  },
  {
   "cell_type": "code",
   "execution_count": 145,
   "id": "91abf3c6",
   "metadata": {
    "vscode": {
     "languageId": "plaintext"
    }
   },
   "outputs": [
    {
     "name": "stdout",
     "output_type": "stream",
     "text": [
      "[[  5.           0.           0.         -11.78571429]\n",
      " [  0.           4.6          0.          -1.31428571]\n",
      " [  0.           0.           0.60869565   2.91304348]]\n",
      "x1 é -2.357142857142858\n",
      "x2 é -0.2857142857142858\n",
      "x3 é 4.785714285714287\n"
     ]
    }
   ],
   "source": [
    "def jordan(m):\n",
    "        m = np.copy(m)\n",
    "        l2 = aplicaLinha(m,0,1)\n",
    "        l3 = aplicaLinha(m,0,2)\n",
    "        m[1] = l2\n",
    "        m[2] = l3\n",
    "        m[2] = aplicaLinha(m,1,2)\n",
    "        m[1] = aplicaLinha(m,2,1)\n",
    "        m[0] = aplicaLinha(m,1,0)\n",
    "        m[1] = aplicaLinha(m,0,1)\n",
    "        m[0] = aplicaLinha(m,2,0)\n",
    "        m[1] = aplicaLinha(m,2,1)\n",
    "        \n",
    "        return m\n",
    "\n",
    "\n",
    "r = jordan(matriz)\n",
    "print(r)\n",
    "x1 = r[0][3]/ r[0][0]\n",
    "x2 = r[1][3]/ r[1][1]\n",
    "x3 = r[2][3]/ r[2][2]\n",
    "\n",
    "print(\"x1 é {}\".format(x1))\n",
    "print(\"x2 é {}\".format(x2))\n",
    "print(\"x3 é {}\".format(x3))\n",
    "\n",
    "\n"
   ]
  },
  {
   "cell_type": "code",
   "execution_count": null,
   "id": "5a34416a",
   "metadata": {},
   "outputs": [],
   "source": []
  },
  {
   "cell_type": "code",
   "execution_count": null,
   "id": "eaaeef4b",
   "metadata": {},
   "outputs": [],
   "source": []
  },
  {
   "cell_type": "code",
   "execution_count": null,
   "id": "c74ed2ad",
   "metadata": {},
   "outputs": [],
   "source": []
  }
 ],
 "metadata": {
  "kernelspec": {
   "display_name": "Python 3 (ipykernel)",
   "language": "python",
   "name": "python3"
  },
  "language_info": {
   "codemirror_mode": {
    "name": "ipython",
    "version": 3
   },
   "file_extension": ".py",
   "mimetype": "text/x-python",
   "name": "python",
   "nbconvert_exporter": "python",
   "pygments_lexer": "ipython3",
   "version": "3.8.10"
  }
 },
 "nbformat": 4,
 "nbformat_minor": 5
}
