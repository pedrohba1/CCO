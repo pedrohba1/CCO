{
 "cells": [
  {
   "attachments": {},
   "cell_type": "markdown",
   "metadata": {},
   "source": [
    "# Método de Gauss Seidel"
   ]
  },
  {
   "attachments": {},
   "cell_type": "markdown",
   "metadata": {},
   "source": [
    "Abaixo, a função que executa o método iterativo de Gauss-Seidel. Ele recebe do usuário a matriz de coeficientes, o vetor de termos independentes e um vetor inicial de chute, além da quantidade máxima de iterações e a tolerância.\n",
    "\n",
    "Vou usar sempre o vetor inicial de chute sendo [0,0,0]\n",
    "\n",
    "A equação que usei como referência para criar a minha função em python:\n"
   ]
  },
  {
   "attachments": {},
   "cell_type": "markdown",
   "metadata": {},
   "source": [
    "<img src=\"./img1.png\" alt=\"Gauss Seidel\" />\n"
   ]
  },
  {
   "cell_type": "code",
   "execution_count": 296,
   "metadata": {},
   "outputs": [],
   "source": [
    "def gauss_seidel(A, b, x, max_iter, tol):\n",
    "  \"\"\"Resolve o sistema de equações lineares Ax=b usando o método de Gauss-Seidel.\n",
    "\n",
    "  Args:\n",
    "    A: a matriz de coeficientes (nxn)\n",
    "    b: o vetor de termos independentes (nx1)\n",
    "    x: o vetor inicial de chute (nx1)\n",
    "    max_iter: o número máximo de iterações\n",
    "    tol: a tolerância para a solução\n",
    "\n",
    "  Returns:\n",
    "    O vetor solução x (nx1)\n",
    "  \"\"\"\n",
    "  n = len(A)                  \n",
    "  iter = 0\n",
    "\n",
    "  print(len(A))\n",
    "\n",
    "  while(iter < max_iter):\n",
    "    x_prev = x.copy()\n",
    "\n",
    "    for j in range(0, n):        \n",
    "          # valor atual do vetor de termos independentes\n",
    "          tmp = b[j]                  \n",
    "    \n",
    "          # Calculando x1, x2, x3:          \n",
    "          for i in range(0, n):     \n",
    "          # Ao pular os valors onde j == i, garantimos que a equação genérica\n",
    "          # do processo iterativo na imagem acima vai funcionar:\n",
    "              if(j == i): \n",
    "                continue\n",
    "              tmp = tmp - A[j][i] * x[i]\n",
    "          x[j] = tmp / A[j][j]\n",
    "\n",
    "    \n",
    "    if(tolerate(x,x_prev,tol)): return x\n",
    "    iter+=1;\n",
    "    # returning our updated solution           \n",
    "  return x    \n",
    "\n",
    "\n",
    "\n",
    "def tolerate(x, x_prev, tol):\n",
    "  \"\"\"Testa se a solução está dentro da tolerância\n",
    "\n",
    "  Args:\n",
    "    x: o vetor das soluções encontrada\n",
    "    x_prev: o vetor de soluções anterior\n",
    "    tol: valor de tolerância\n",
    "  Returns:\n",
    "     True se a tolerância está no valor previsto False se não estiver\n",
    "  \"\"\" \n",
    "  tolerances = [0] * len(x)\n",
    "  for i in range(0,len(x)):\n",
    "    tolerances[i] =   abs((x[i] -x_prev[i])/x[i])\n",
    "    if (tolerances[i] >=tol): return False \n",
    "  return True\n",
    "\n",
    "\n",
    "\n"
   ]
  },
  {
   "attachments": {},
   "cell_type": "markdown",
   "metadata": {},
   "source": [
    "# Critério de Sassenfeld\n",
    "<img src=\"./img2.png\" alt=\"Sassenfeld\" />"
   ]
  },
  {
   "cell_type": "code",
   "execution_count": 297,
   "metadata": {},
   "outputs": [],
   "source": [
    "\n",
    "def sassenfeld(A, b):\n",
    "  \"\"\"Testa se a matriz de coeficientes satisfaz o critério de Sassenfeld\n",
    "\n",
    "  Args:\n",
    "    A: matriz de coeficientes\n",
    "    b: vetor de termos independentes\n",
    "  Returns:\n",
    "     True se satisfaz o critério de Sassenfeld, False se o contrário\n",
    "  \"\"\" \n",
    "\n",
    "  # faz um merge da matriz A com a b colocando os valores de b no final da linha\n",
    "  for i in range(0, len(A)):\n",
    "    A[i].append(b[i])\n",
    "  print(A)\n",
    "  Beta = [1] * len(A)\n",
    "\n",
    "  Betas = []\n",
    "  for i in range (0, len(A)):\n",
    "    coefs = []\n",
    "    for j in range(0, len(A)):\n",
    "      if (i ==j): continue\n",
    "      coefs.append(abs(A[i][j]))\n",
    "\n",
    "      # se não for a primeira iteração, considera os Betas na conta\n",
    "    if(i !=0):\n",
    "      for k in range(0, i):\n",
    "        coefs[k] = abs(A[i][k] * Beta[k])\n",
    "    Beta[i] = abs(1/A[i][i]) * sum(coefs)\n",
    "    print('Beta[{}]: {} '.format(i, Beta[i]))\n",
    "      \n",
    "\n",
    "  if(max(Beta)):\n",
    "    return True\n",
    "  return False"
   ]
  },
  {
   "cell_type": "code",
   "execution_count": 298,
   "metadata": {},
   "outputs": [],
   "source": [
    "\n",
    "# Matriz de coeficientes\n",
    "A = [[5, 1, 1],\n",
    " [3, 4, 1], \n",
    " [3, 3, 6]]\n",
    " \n",
    "\n",
    "# Vetor de termos independentes\n",
    "b = [5, 6, 0]\n",
    "\n",
    "# Vetor inicial de chute\n",
    "x = [0, 0, 0]\n",
    "\n",
    "# Número máximo de iterações\n",
    "max_iter = 100\n",
    "\n",
    "# Tolerância para a solução\n",
    "tol = 1e-10\n",
    "\n"
   ]
  },
  {
   "attachments": {},
   "cell_type": "markdown",
   "metadata": {},
   "source": [
    "Antes de realizar o método, vamos ver se passa no critério de Sassenfeld"
   ]
  },
  {
   "cell_type": "code",
   "execution_count": 299,
   "metadata": {},
   "outputs": [
    {
     "name": "stdout",
     "output_type": "stream",
     "text": [
      "[[5, 1, 1, 5], [3, 4, 1, 6], [3, 3, 6, 0]]\n",
      "Beta[0]: 0.4 \n",
      "Beta[1]: 0.55 \n",
      "Beta[2]: 0.4750000000000001 \n"
     ]
    },
    {
     "data": {
      "text/plain": [
       "True"
      ]
     },
     "execution_count": 299,
     "metadata": {},
     "output_type": "execute_result"
    }
   ],
   "source": [
    "sassenfeld(A, b)"
   ]
  },
  {
   "cell_type": "code",
   "execution_count": 300,
   "metadata": {},
   "outputs": [
    {
     "name": "stdout",
     "output_type": "stream",
     "text": [
      "3\n",
      "[0.9999999999833434, 1.0000000000132039, -0.9999999999982737]\n"
     ]
    }
   ],
   "source": [
    "x = gauss_seidel(A, b, x, max_iter, tol)\n",
    "\n",
    "print(x)\n"
   ]
  },
  {
   "attachments": {},
   "cell_type": "markdown",
   "metadata": {},
   "source": [
    "Um exemplo do critério de Sassenfeld com um exercício de sala"
   ]
  },
  {
   "cell_type": "code",
   "execution_count": 301,
   "metadata": {},
   "outputs": [],
   "source": [
    "# Matriz de coeficientes\n",
    "A = [[2, 1, -0.2, 0.2],\n",
    " [0.6, 3.0, -0.6, -0.3], \n",
    " [-0.1, -0.2, 1.0, 0.2],\n",
    " [0.4, 1.2, 0.8, 4.0]\n",
    " ]\n",
    " \n",
    "\n",
    "# Vetor de termos independentes\n",
    "b = [0.4, -7.8, 1.0, -10]\n",
    "\n",
    "# Vetor inicial de chute\n",
    "x = [0, 0, 0,0]"
   ]
  },
  {
   "cell_type": "code",
   "execution_count": 302,
   "metadata": {},
   "outputs": [
    {
     "name": "stdout",
     "output_type": "stream",
     "text": [
      "[[2, 1, -0.2, 0.2, 0.4], [0.6, 3.0, -0.6, -0.3, -7.8], [-0.1, -0.2, 1.0, 0.2, 1.0], [0.4, 1.2, 0.8, 4.0, -10]]\n",
      "Beta[0]: 0.7 \n",
      "Beta[1]: 0.44 \n",
      "Beta[2]: 0.358 \n",
      "Beta[3]: 0.2736 \n"
     ]
    },
    {
     "data": {
      "text/plain": [
       "True"
      ]
     },
     "execution_count": 302,
     "metadata": {},
     "output_type": "execute_result"
    }
   ],
   "source": [
    "sassenfeld(A, b)"
   ]
  },
  {
   "attachments": {},
   "cell_type": "markdown",
   "metadata": {},
   "source": [
    "A matriz passa no critério de Sassenfeld, portanto há convergência da solução do sistema no método de Gauss-Seidel."
   ]
  },
  {
   "attachments": {},
   "cell_type": "markdown",
   "metadata": {},
   "source": [
    "Bônus: solucionando o sistema anterior que passa no critério de Sassenfeld com o método de Gauss-Seidel na mesma função"
   ]
  },
  {
   "cell_type": "code",
   "execution_count": 303,
   "metadata": {},
   "outputs": [
    {
     "name": "stdout",
     "output_type": "stream",
     "text": [
      "4\n",
      "[1.9999999999710452, -2.9999999999943316, 0.9999999999974504, -1.9999999999982954]\n"
     ]
    }
   ],
   "source": [
    "x = gauss_seidel(A, b, x, max_iter, tol)\n",
    "\n",
    "print(x)"
   ]
  }
 ],
 "metadata": {
  "kernelspec": {
   "display_name": "Python 3",
   "language": "python",
   "name": "python3"
  },
  "language_info": {
   "codemirror_mode": {
    "name": "ipython",
    "version": 3
   },
   "file_extension": ".py",
   "mimetype": "text/x-python",
   "name": "python",
   "nbconvert_exporter": "python",
   "pygments_lexer": "ipython3",
   "version": "3.8.10"
  },
  "orig_nbformat": 4,
  "vscode": {
   "interpreter": {
    "hash": "916dbcbb3f70747c44a77c7bcd40155683ae19c65e1c03b4aa3499c5328201f1"
   }
  }
 },
 "nbformat": 4,
 "nbformat_minor": 2
}
