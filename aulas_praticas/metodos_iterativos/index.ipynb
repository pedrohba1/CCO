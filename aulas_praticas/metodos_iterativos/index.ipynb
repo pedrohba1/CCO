{
 "cells": [
  {
   "attachments": {},
   "cell_type": "markdown",
   "metadata": {},
   "source": [
    "# Método de Gauss Seidel"
   ]
  },
  {
   "attachments": {},
   "cell_type": "markdown",
   "metadata": {},
   "source": [
    "Abaixo, a função que executa o método iterativo de Gauss-Seidel. Ele recebe do usuário a matriz de coeficientes, o vetor de termos independentes e um vetor inicial de chute, além da quantidade máxima de iterações e a tolerância.\n",
    "\n",
    "Vou usar sempre o vetor inicial de chute sendo [0,0,0]\n",
    "\n",
    "A equação que usei como referência para criar a minha função em python:\n"
   ]
  },
  {
   "attachments": {},
   "cell_type": "markdown",
   "metadata": {},
   "source": [
    "<img src=\"./img1.png\" alt=\"Alternative text\" />"
   ]
  },
  {
   "cell_type": "code",
   "execution_count": 92,
   "metadata": {},
   "outputs": [],
   "source": [
    "def gauss_seidel(A, b, x, max_iter, tol):\n",
    "  \"\"\"Resolve o sistema de equações lineares Ax=b usando o método de Gauss-Seidel.\n",
    "\n",
    "  Args:\n",
    "    A: a matriz de coeficientes (nxn)\n",
    "    b: o vetor de termos independentes (nx1)\n",
    "    x: o vetor inicial de chute (nx1)\n",
    "    max_iter: o número máximo de iterações\n",
    "    tol: a tolerância para a solução\n",
    "\n",
    "  Returns:\n",
    "    O vetor solução x (nx1)\n",
    "  \"\"\"\n",
    "  if(len(A) != 3): raise Exception(\"só funciona com equações de 3 variáveis\")\n",
    "  n = 3                  \n",
    "  iter = 0\n",
    "\n",
    "\n",
    "  while(iter < max_iter):\n",
    "    x_prev = x.copy()\n",
    "\n",
    "    for j in range(0, n):        \n",
    "          # valor atual do vetor de termos independentes\n",
    "          tmp = b[j]                  \n",
    "    \n",
    "          # Calculando x1, x2, x3:          \n",
    "          for i in range(0, n):     \n",
    "          # Ao pular os valors onde j == i, garantimos que a equação genérica\n",
    "          # do processo iterativo na imagem acima vai funcionar:\n",
    "              if(j == i): \n",
    "                continue\n",
    "              tmp = tmp - A[j][i] * x[i]\n",
    "          x[j] = tmp / A[j][j]\n",
    "\n",
    "    \n",
    "    if(tolerate(x,x_prev,tol)): return x\n",
    "    iter+=1;\n",
    "    # returning our updated solution           \n",
    "  return x    \n",
    "\n",
    "\n",
    "\n",
    "def tolerate(x, x_prev, tol):\n",
    "  \"\"\"Testa se a solução está dentro da tolerância\n",
    "\n",
    "  Args:\n",
    "    x: o vetor das soluções encontrada\n",
    "    x_prev: o vetor de soluções anterior\n",
    "    tol: valor de tolerância\n",
    "  Returns:\n",
    "     True se a tolerância está no valor previsto False se não estiver\n",
    "  \"\"\" \n",
    "  tolerances = [0,0,0]\n",
    "  for i in range(0,3):\n",
    "    tolerances[i] =   abs((x[i] -x_prev[i])/x[i])\n",
    "    if (tolerances[i] >=tol): return False \n",
    "  return True\n",
    "\n",
    "\n",
    "\n",
    "\n",
    "\n"
   ]
  },
  {
   "cell_type": "code",
   "execution_count": 93,
   "metadata": {},
   "outputs": [],
   "source": [
    "\n",
    "# Matriz de coeficientes\n",
    "A = [[2, 1, -1],\n",
    " [1, 3, 2], \n",
    " [4, -1, 3]]\n",
    " \n",
    "\n",
    "# Vetor de termos independentes\n",
    "b = [1, -2, 3]\n",
    "\n",
    "# Vetor inicial de chute\n",
    "x = [0, 0, 0]\n",
    "\n",
    "# Número máximo de iterações\n",
    "max_iter = 100\n",
    "\n",
    "# Tolerância para a solução\n",
    "tol = 1e-10\n",
    "\n"
   ]
  },
  {
   "cell_type": "code",
   "execution_count": 94,
   "metadata": {},
   "outputs": [
    {
     "name": "stdout",
     "output_type": "stream",
     "text": [
      "[0.7500000696976432, -0.7499998591203157, -0.2500000459702962]\n"
     ]
    }
   ],
   "source": [
    "x = gauss_seidel(A, b, x, max_iter, tol)\n",
    "\n",
    "print(x)\n"
   ]
  }
 ],
 "metadata": {
  "kernelspec": {
   "display_name": "Python 3",
   "language": "python",
   "name": "python3"
  },
  "language_info": {
   "codemirror_mode": {
    "name": "ipython",
    "version": 3
   },
   "file_extension": ".py",
   "mimetype": "text/x-python",
   "name": "python",
   "nbconvert_exporter": "python",
   "pygments_lexer": "ipython3",
   "version": "3.8.10"
  },
  "orig_nbformat": 4,
  "vscode": {
   "interpreter": {
    "hash": "916dbcbb3f70747c44a77c7bcd40155683ae19c65e1c03b4aa3499c5328201f1"
   }
  }
 },
 "nbformat": 4,
 "nbformat_minor": 2
}
