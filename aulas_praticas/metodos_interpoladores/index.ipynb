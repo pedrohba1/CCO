{
 "cells": [
  {
   "attachments": {},
   "cell_type": "markdown",
   "metadata": {},
   "source": [
    "# Métodos interpoladores"
   ]
  },
  {
   "attachments": {},
   "cell_type": "markdown",
   "metadata": {},
   "source": [
    "Usei o método de La Grange para determinar o interpolador"
   ]
  },
  {
   "cell_type": "markdown",
   "metadata": {},
   "source": [
    "<img src=\"./img1.png\" alt=\"Gauss Seidel\" />\n"
   ]
  },
  {
   "cell_type": "code",
   "execution_count": 71,
   "metadata": {},
   "outputs": [],
   "source": [
    "from numpy import (poly1d)\n"
   ]
  },
  {
   "attachments": {},
   "cell_type": "markdown",
   "metadata": {},
   "source": [
    "Esse poly1d é uma função auxiliar só para não ter que representar um polinômio\n",
    "Na mão. Ele permite representar um array, por exemplo [1,2,3] m um polinômio\n",
    "1x^2 + 2x + 3:"
   ]
  },
  {
   "cell_type": "code",
   "execution_count": 72,
   "metadata": {},
   "outputs": [
    {
     "name": "stdout",
     "output_type": "stream",
     "text": [
      "   2\n",
      "1 x + 2 x + 3\n"
     ]
    }
   ],
   "source": [
    "p = poly1d([1, 2, 3])\n",
    "print(p)"
   ]
  },
  {
   "cell_type": "code",
   "execution_count": 73,
   "metadata": {},
   "outputs": [],
   "source": [
    "def la_grange(points):\n",
    "    \"\"\"\n",
    "    Essa função recebe ma lista de pontos e realiza o método de La Grange.    \n",
    "    Usei uma função     \n",
    "    \"\"\"\n",
    "\n",
    "\n",
    "    M = len(points)\n",
    "    p = poly1d(0)\n",
    "    for j in range(M):\n",
    "        xj, wj = points[j]\n",
    "        term = poly1d(wj)\n",
    "        for k in range(M):\n",
    "            if k == j:\n",
    "                continue\n",
    "            xk, _ = points[k]\n",
    "            term *= poly1d([1, -xk]) / (xj - xk)\n",
    "        p += term\n",
    "    return p"
   ]
  },
  {
   "cell_type": "code",
   "execution_count": 74,
   "metadata": {},
   "outputs": [
    {
     "name": "stdout",
     "output_type": "stream",
     "text": [
      "        2\n",
      "0.6667 x - 2.333 x + 1\n"
     ]
    }
   ],
   "source": [
    "# # Suponha que queremos interpolar os seguintes pontos:\n",
    "# points = [(-1,4), (0,1),(2,-1)]\n",
    "\n",
    "poli = la_grange([(-1,4), (0,1),(2,-1)])\n",
    "\n",
    "print(poli)"
   ]
  },
  {
   "attachments": {},
   "cell_type": "markdown",
   "metadata": {},
   "source": [
    "## Bônus:\n",
    "\n",
    "Para ter certeza de que estava funcionando mesmo eu decidi montar o gráfico dessa função, e conectar os pontos."
   ]
  },
  {
   "cell_type": "code",
   "execution_count": 75,
   "metadata": {},
   "outputs": [
    {
     "data": {
      "image/png": "[encoded data removed]",
      "text/plain": [
       "<Figure size 640x480 with 1 Axes>"
      ]
     },
     "metadata": {},
     "output_type": "display_data"
    }
   ],
   "source": [
    "import numpy as np\n",
    "import matplotlib.pyplot as plt\n",
    "\n",
    "# generate x and y values for the polynomial\n",
    "x = np.linspace(-5, 5, num=100)\n",
    "y = poli(x)\n",
    "\n",
    "\n",
    "# List of data points\n",
    "xp = [-1,0,2]\n",
    "yp = [4,1,-1]\n",
    "\n",
    "# plot the polynomial\n",
    "\n",
    "plt.scatter(xp, yp, c=xp, cmap='hot')\n",
    "\n",
    "plt.plot(x, y)\n",
    "plt.show()"
   ]
  }
 ],
 "metadata": {
  "kernelspec": {
   "display_name": "Python 3",
   "language": "python",
   "name": "python3"
  },
  "language_info": {
   "codemirror_mode": {
    "name": "ipython",
    "version": 3
   },
   "file_extension": ".py",
   "mimetype": "text/x-python",
   "name": "python",
   "nbconvert_exporter": "python",
   "pygments_lexer": "ipython3",
   "version": "3.8.10"
  },
  "orig_nbformat": 4,
  "vscode": {
   "interpreter": {
    "hash": "916dbcbb3f70747c44a77c7bcd40155683ae19c65e1c03b4aa3499c5328201f1"
   }
  }
 },
 "nbformat": 4,
 "nbformat_minor": 2
}
