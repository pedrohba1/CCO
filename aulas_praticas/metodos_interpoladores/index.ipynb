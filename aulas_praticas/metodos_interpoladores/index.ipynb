{
 "cells": [
  {
   "attachments": {},
   "cell_type": "markdown",
   "metadata": {},
   "source": [
    "# Métodos interpoladores"
   ]
  },
  {
   "attachments": {},
   "cell_type": "markdown",
   "metadata": {},
   "source": [
    "Usei o método de La Grange para determinar o interpolador"
   ]
  },
  {
   "cell_type": "markdown",
   "metadata": {},
   "source": [
    "<img src=\"./img1.png\" alt=\"Gauss Seidel\" />\n"
   ]
  },
  {
   "cell_type": "code",
   "execution_count": 23,
   "metadata": {},
   "outputs": [],
   "source": [
    "from numpy import (poly1d)\n"
   ]
  },
  {
   "attachments": {},
   "cell_type": "markdown",
   "metadata": {},
   "source": [
    "Esse poly1d é uma função auxiliar só para não ter que representar um polinômio\n",
    "Na mão. Ele permite representar um array, por exemplo [1,2,3] m um polinômio\n",
    "1x^2 + 2x + 3:"
   ]
  },
  {
   "cell_type": "code",
   "execution_count": 24,
   "metadata": {},
   "outputs": [
    {
     "name": "stdout",
     "output_type": "stream",
     "text": [
      "   2\n",
      "1 x + 2 x + 3\n"
     ]
    }
   ],
   "source": [
    "p = poly1d([1, 2, 3])\n",
    "print(p)"
   ]
  },
  {
   "cell_type": "code",
   "execution_count": 25,
   "metadata": {},
   "outputs": [],
   "source": [
    "\n",
    "\n",
    "\n",
    "# TODO: fazer receber um ponto único no lugar de dois arrays de pontos.\n",
    "def la_grange(x, w):\n",
    "  \"\"\"\n",
    "  Encontra o primeiro, segundo e terceiro grau \n",
    "  A partir de um ponto usando o método de lagrange\n",
    "  \"\"\"\n",
    "\n",
    "  M = len(x)\n",
    "  p = poly1d(0.0)\n",
    "  for j in range(M):\n",
    "      pt = poly1d(w[j])\n",
    "      for k in range(M):\n",
    "          if k == j:\n",
    "              continue\n",
    "          fac = x[j]-x[k]\n",
    "          pt *= poly1d([1.0, -x[k]])/fac\n",
    "      p += pt\n",
    "  return p\n",
    "\n",
    "\n",
    "def la_grange_polynomial(x,y):\n",
    "  \"\"\"\n",
    "  Encontra o polinômio utilizando o método de La Grange\n",
    "  points: Um array de pontos. Exemplo: [(0,0),(0,1), (0,2)]\n",
    "  \"\"\"\n",
    "\n",
    "  return la_grange(x,y)\n",
    "  \n"
   ]
  },
  {
   "cell_type": "code",
   "execution_count": 26,
   "metadata": {},
   "outputs": [
    {
     "ename": "TypeError",
     "evalue": "la_grange_polynomial() missing 1 required positional argument: 'y'",
     "output_type": "error",
     "traceback": [
      "\u001b[0;31m---------------------------------------------------------------------------\u001b[0m",
      "\u001b[0;31mTypeError\u001b[0m                                 Traceback (most recent call last)",
      "Cell \u001b[0;32mIn [26], line 5\u001b[0m\n\u001b[1;32m      2\u001b[0m points \u001b[39m=\u001b[39m [(\u001b[39m0\u001b[39m, \u001b[39m0\u001b[39m), (\u001b[39m1\u001b[39m, \u001b[39m1\u001b[39m), (\u001b[39m2\u001b[39m, \u001b[39m4\u001b[39m), (\u001b[39m3\u001b[39m, \u001b[39m9\u001b[39m)]\n\u001b[1;32m      4\u001b[0m \u001b[39m# Podemos então chamar a função da seguinte maneira:\u001b[39;00m\n\u001b[0;32m----> 5\u001b[0m polynomial \u001b[39m=\u001b[39m la_grange_polynomial(points)\n\u001b[1;32m      6\u001b[0m \u001b[39mprint\u001b[39m(polynomial)\n",
      "\u001b[0;31mTypeError\u001b[0m: la_grange_polynomial() missing 1 required positional argument: 'y'"
     ]
    }
   ],
   "source": [
    "# Suponha que queremos interpolar os seguintes pontos:\n",
    "points = [(0, 0), (1, 1), (2, 4), (3, 9)]\n",
    "\n",
    "# Podemos então chamar a função da seguinte maneira:\n",
    "polynomial = la_grange_polynomial(points)\n",
    "print(polynomial)  # Imprime o polinômio interpolador\n"
   ]
  },
  {
   "cell_type": "code",
   "execution_count": 27,
   "metadata": {},
   "outputs": [
    {
     "name": "stdout",
     "output_type": "stream",
     "text": [
      "        2\n",
      "0.6667 x - 2.333 x + 1\n"
     ]
    }
   ],
   "source": [
    "\n",
    "\n",
    "print(la_grange_polynomial([-1, 0, 2], [4, 1., -1]))"
   ]
  },
  {
   "cell_type": "code",
   "execution_count": null,
   "metadata": {},
   "outputs": [],
   "source": []
  }
 ],
 "metadata": {
  "kernelspec": {
   "display_name": "Python 3",
   "language": "python",
   "name": "python3"
  },
  "language_info": {
   "codemirror_mode": {
    "name": "ipython",
    "version": 3
   },
   "file_extension": ".py",
   "mimetype": "text/x-python",
   "name": "python",
   "nbconvert_exporter": "python",
   "pygments_lexer": "ipython3",
   "version": "3.8.10"
  },
  "orig_nbformat": 4,
  "vscode": {
   "interpreter": {
    "hash": "916dbcbb3f70747c44a77c7bcd40155683ae19c65e1c03b4aa3499c5328201f1"
   }
  }
 },
 "nbformat": 4,
 "nbformat_minor": 2
}
