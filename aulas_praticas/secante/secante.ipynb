{
 "cells": [
  {
   "cell_type": "markdown",
   "id": "06e54415",
   "metadata": {},
   "source": [
    "# Raíz de função pelo método da secante\n"
   ]
  },
  {
   "cell_type": "code",
   "execution_count": 156,
   "id": "eeb8070e",
   "metadata": {},
   "outputs": [],
   "source": [
    "import latexify\n",
    "import math"
   ]
  },
  {
   "cell_type": "markdown",
   "id": "8d307d0b",
   "metadata": {},
   "source": [
    "função  de iteração g(x) do método da secante:"
   ]
  },
  {
   "cell_type": "code",
   "execution_count": 157,
   "id": "db74b518",
   "metadata": {},
   "outputs": [
    {
     "data": {
      "text/latex": [
       "$$ \\displaystyle \\mathrm{g}(x0, x1, f)\\triangleq \\frac{x0\\mathrm{f}\\left(x1\\right) - x1\\mathrm{f}\\left(x0\\right)}{\\mathrm{f}\\left(x1\\right) - \\mathrm{f}\\left(x0\\right)} $$"
      ],
      "text/plain": [
       "<latexify.core.with_latex.<locals>._LatexifiedFunction at 0x7f80dd0686a0>"
      ]
     },
     "execution_count": 157,
     "metadata": {},
     "output_type": "execute_result"
    }
   ],
   "source": [
    "@latexify.with_latex\n",
    "def g(x0, x1, f):\n",
    "    return (x0 * f(x1) - x1 *f(x0))/ (f(x1) - f(x0)) \n",
    "g"
   ]
  },
  {
   "cell_type": "markdown",
   "id": "02198bcf",
   "metadata": {},
   "source": [
    "Condições de parada abaixo. 1 é verdadeiro, ou seja, pararia, enquanto 0 é falso."
   ]
  },
  {
   "cell_type": "code",
   "execution_count": 158,
   "id": "15bc3f58",
   "metadata": {},
   "outputs": [
    {
     "data": {
      "text/latex": [
       "$$ \\displaystyle \\mathrm{parada1}(f, xk, erro)\\triangleq \\left\\{ \\begin{array}{ll} 1, & \\mathrm{if} \\ \\left|{\\mathrm{f}\\left(xk\\right)}\\right|\\le erro \\\\ 0, & \\mathrm{otherwise} \\end{array} \\right. $$"
      ],
      "text/plain": [
       "<latexify.core.with_latex.<locals>._LatexifiedFunction at 0x7f80dd068910>"
      ]
     },
     "execution_count": 158,
     "metadata": {},
     "output_type": "execute_result"
    }
   ],
   "source": [
    "@latexify.with_latex\n",
    "def parada1(f,xk, erro):\n",
    "    if abs(f(xk)) <= erro: return 1\n",
    "    else: return 0\n",
    "parada1"
   ]
  },
  {
   "cell_type": "code",
   "execution_count": 159,
   "id": "2084bae1",
   "metadata": {},
   "outputs": [
    {
     "data": {
      "text/latex": [
       "$$ \\displaystyle \\mathrm{parada2}(xkPlus1, xk, erro)\\triangleq \\left\\{ \\begin{array}{ll} 1, & \\mathrm{if} \\ \\left|{\\frac{xkPlus1 - xk}{xkPlus1}}\\right|\\le erro \\\\ 0, & \\mathrm{otherwise} \\end{array} \\right. $$"
      ],
      "text/plain": [
       "<latexify.core.with_latex.<locals>._LatexifiedFunction at 0x7f80dd0681c0>"
      ]
     },
     "execution_count": 159,
     "metadata": {},
     "output_type": "execute_result"
    }
   ],
   "source": [
    "@latexify.with_latex\n",
    "def parada2(xkPlus1,xk, erro):\n",
    "    if abs((xkPlus1 - xk) / xkPlus1 )  <= erro: return 1\n",
    "    else: return 0\n",
    "parada2"
   ]
  },
  {
   "cell_type": "code",
   "execution_count": 160,
   "id": "3c829918",
   "metadata": {},
   "outputs": [],
   "source": [
    "\n",
    "# a função inteira é passada como parâmetro\n",
    "def metSecante(func,x0,x1,erro):\n",
    "    if func(x0) > 0:\n",
    "        apply = True\n",
    "    elif func(x1) > 0:\n",
    "        apply = True\n",
    "    else: \n",
    "         raise Exception(\"x0 invalido\")\n",
    "    xk= g(x0,x1,func)\n",
    "    xkMinus1 = x1\n",
    "    print(xk)\n",
    "    iter = 1\n",
    "    while apply:\n",
    "        if parada1(func, xk, erro) == 1:\n",
    "            apply = False\n",
    "            print(\"raíz: {}, iterações: {}\".format(xk,iter ))\n",
    "            return xk\n",
    "        if (parada2(xk, xkMinus1, erro)) == 1:\n",
    "            apply = False\n",
    "            print(\"raíz: {}\".format(xk))\n",
    "            return xk\n",
    "        if iter > 500: \n",
    "            print(\"excedeu limite\")\n",
    "            return -1\n",
    "        xkPlus1 = g(xkMinus1, xk,func)\n",
    "        xkMinus1 = xk\n",
    "        xk = xkPlus1\n",
    "        iter+=1\n",
    "        \n",
    "    \n",
    "        \n",
    "    "
   ]
  },
  {
   "cell_type": "markdown",
   "id": "cd8a8c9a",
   "metadata": {},
   "source": [
    "Abaixo, uma função para usar como teste"
   ]
  },
  {
   "cell_type": "code",
   "execution_count": 161,
   "id": "00d3cda6",
   "metadata": {},
   "outputs": [
    {
     "data": {
      "text/latex": [
       "$$ \\displaystyle \\mathrm{P2}(x)\\triangleq x^{3} - x - 1 $$"
      ],
      "text/plain": [
       "<latexify.core.with_latex.<locals>._LatexifiedFunction at 0x7f80dd068580>"
      ]
     },
     "execution_count": 161,
     "metadata": {},
     "output_type": "execute_result"
    }
   ],
   "source": [
    "@latexify.with_latex\n",
    "def P2(x):\n",
    "    return (x**3) -x -1\n",
    "P2"
   ]
  },
  {
   "cell_type": "code",
   "execution_count": 162,
   "id": "84496373",
   "metadata": {},
   "outputs": [],
   "source": [
    "erroPX = 0.002"
   ]
  },
  {
   "cell_type": "code",
   "execution_count": 163,
   "id": "1ad37a81",
   "metadata": {},
   "outputs": [
    {
     "name": "stdout",
     "output_type": "stream",
     "text": [
      "1.3692077727952165\n",
      "raíz: 1.3247233059310892, iterações: 4\n"
     ]
    }
   ],
   "source": [
    "result = metSecante(P2, 1.5, 1.7, erroPX)\n"
   ]
  },
  {
   "cell_type": "markdown",
   "id": "7bcafa79",
   "metadata": {},
   "source": [
    "Mais um exemplo:"
   ]
  },
  {
   "cell_type": "code",
   "execution_count": 164,
   "id": "a9a31020",
   "metadata": {},
   "outputs": [
    {
     "data": {
      "text/latex": [
       "$$ \\displaystyle \\mathrm{P3}(x)\\triangleq x\\log{\\left({x, 10}\\right)} - 1 $$"
      ],
      "text/plain": [
       "<latexify.core.with_latex.<locals>._LatexifiedFunction at 0x7f80dd068760>"
      ]
     },
     "execution_count": 164,
     "metadata": {},
     "output_type": "execute_result"
    }
   ],
   "source": [
    "@latexify.with_latex\n",
    "def P3(x):\n",
    "    return x*math.log(x,10) -1\n",
    "P3\n"
   ]
  },
  {
   "cell_type": "code",
   "execution_count": 165,
   "id": "0aae7d83",
   "metadata": {},
   "outputs": [
    {
     "name": "stdout",
     "output_type": "stream",
     "text": [
      "2.47984830373263\n",
      "raíz: 2.5049642922892947, iterações: 2\n"
     ]
    },
    {
     "data": {
      "text/plain": [
       "2.5049642922892947"
      ]
     },
     "execution_count": 165,
     "metadata": {},
     "output_type": "execute_result"
    }
   ],
   "source": [
    "a0 = 2\n",
    "b0 = 3\n",
    "err = 0.002\n",
    "\n",
    "metSecante(P3, a0,b0, err)"
   ]
  }
 ],
 "metadata": {
  "kernelspec": {
   "display_name": "Python 3 (ipykernel)",
   "language": "python",
   "name": "python3"
  },
  "language_info": {
   "codemirror_mode": {
    "name": "ipython",
    "version": 3
   },
   "file_extension": ".py",
   "mimetype": "text/x-python",
   "name": "python",
   "nbconvert_exporter": "python",
   "pygments_lexer": "ipython3",
   "version": "3.8.10"
  }
 },
 "nbformat": 4,
 "nbformat_minor": 5
}
