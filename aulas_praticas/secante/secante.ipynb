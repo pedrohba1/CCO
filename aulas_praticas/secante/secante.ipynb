{
 "cells": [
  {
   "cell_type": "markdown",
   "id": "06e54415",
   "metadata": {},
   "source": [
    "# Raíz de função pelo método da secante\n"
   ]
  },
  {
   "cell_type": "code",
   "execution_count": 71,
   "id": "eeb8070e",
   "metadata": {},
   "outputs": [],
   "source": [
    "import latexify\n",
    "import math"
   ]
  },
  {
   "cell_type": "markdown",
   "id": "8d307d0b",
   "metadata": {},
   "source": [
    "função  de iteração g(x) do método da secante:"
   ]
  },
  {
   "cell_type": "code",
   "execution_count": 72,
   "id": "db74b518",
   "metadata": {},
   "outputs": [
    {
     "data": {
      "text/latex": [
       "$$ \\displaystyle \\mathrm{g}(x0, x1, f)\\triangleq \\frac{x0\\mathrm{f}\\left(x1\\right) - x1\\mathrm{f}\\left(x0\\right)}{\\mathrm{f}\\left(x1\\right) - \\mathrm{f}\\left(x0\\right)} $$"
      ],
      "text/plain": [
       "<latexify.core.with_latex.<locals>._LatexifiedFunction at 0x7f80ee68ee80>"
      ]
     },
     "execution_count": 72,
     "metadata": {},
     "output_type": "execute_result"
    }
   ],
   "source": [
    "@latexify.with_latex\n",
    "def g(x0, x1, f):\n",
    "    return (x0 * f(x1) - x1 *f(x0))/ (f(x1) - f(x0)) \n",
    "g"
   ]
  },
  {
   "cell_type": "markdown",
   "id": "02198bcf",
   "metadata": {},
   "source": [
    "Condições de parada abaixo. 1 é verdadeiro, ou seja, pararia, enquanto 0 é falso."
   ]
  },
  {
   "cell_type": "code",
   "execution_count": 73,
   "id": "15bc3f58",
   "metadata": {},
   "outputs": [
    {
     "data": {
      "text/latex": [
       "$$ \\displaystyle \\mathrm{parada1}(f, xk, erro)\\triangleq \\left\\{ \\begin{array}{ll} 1, & \\mathrm{if} \\ \\left|{\\mathrm{f}\\left(xk\\right)}\\right|\\le erro \\\\ 0, & \\mathrm{otherwise} \\end{array} \\right. $$"
      ],
      "text/plain": [
       "<latexify.core.with_latex.<locals>._LatexifiedFunction at 0x7f80ec425f70>"
      ]
     },
     "execution_count": 73,
     "metadata": {},
     "output_type": "execute_result"
    }
   ],
   "source": [
    "@latexify.with_latex\n",
    "def parada1(f,xk, erro):\n",
    "    if abs(f(xk)) <= erro: return 1\n",
    "    else: return 0\n",
    "parada1"
   ]
  },
  {
   "cell_type": "code",
   "execution_count": 74,
   "id": "2084bae1",
   "metadata": {},
   "outputs": [
    {
     "data": {
      "text/latex": [
       "$$ \\displaystyle \\mathrm{parada2}(xkPlus1, xk, erro)\\triangleq \\left\\{ \\begin{array}{ll} 1, & \\mathrm{if} \\ \\left|{\\frac{xkPlus1 - xk}{xkPlus1}}\\right|\\le erro \\\\ 0, & \\mathrm{otherwise} \\end{array} \\right. $$"
      ],
      "text/plain": [
       "<latexify.core.with_latex.<locals>._LatexifiedFunction at 0x7f80f01a8e50>"
      ]
     },
     "execution_count": 74,
     "metadata": {},
     "output_type": "execute_result"
    }
   ],
   "source": [
    "@latexify.with_latex\n",
    "def parada2(xkPlus1,xk, erro):\n",
    "    if abs((xkPlus1 - xk) / xkPlus1 )  <= erro: return 1\n",
    "    else: return 0\n",
    "parada2"
   ]
  },
  {
   "cell_type": "code",
   "execution_count": 128,
   "id": "3c829918",
   "metadata": {},
   "outputs": [],
   "source": [
    "\n",
    "# a função inteira é passada como parâmetro\n",
    "def metSecante(func,x0,x1,erro):\n",
    "    if func(x0) > 0:\n",
    "        apply = True\n",
    "    elif func(x1) > 0:\n",
    "        apply = True\n",
    "    \n",
    "    xk= g(x0,x1,func)\n",
    "    xkMinus1 = x1\n",
    "    print(xk)\n",
    "    iter = 1\n",
    "    while apply:\n",
    "        if parada1(func, xk, erro) == 1:\n",
    "            apply = False\n",
    "            print(\"raíz: {}, iterações: {}\".format(xk,iter ))\n",
    "            return xk\n",
    "        if (parada2(xk, xkMinus1, erro)) == 1:\n",
    "            apply = False\n",
    "            print(\"raíz: {}\".format(xk))\n",
    "            return xk\n",
    "        if iter > 500: \n",
    "            print(\"excedeu limite\")\n",
    "            return -1\n",
    "        xkPlus1 = g(xkMinus1, xk,func)\n",
    "        xkMinus1 = xk\n",
    "        xk = xkPlus1\n",
    "        iter+=1\n",
    "        \n",
    "    \n",
    "        \n",
    "    "
   ]
  },
  {
   "cell_type": "markdown",
   "id": "cd8a8c9a",
   "metadata": {},
   "source": [
    "Abaixo, uma função para usar como teste"
   ]
  },
  {
   "cell_type": "code",
   "execution_count": 129,
   "id": "00d3cda6",
   "metadata": {},
   "outputs": [
    {
     "data": {
      "text/latex": [
       "$$ \\displaystyle \\mathrm{P2}(x)\\triangleq x^{3} - x - 1 $$"
      ],
      "text/plain": [
       "<latexify.core.with_latex.<locals>._LatexifiedFunction at 0x7f80dd0bea30>"
      ]
     },
     "execution_count": 129,
     "metadata": {},
     "output_type": "execute_result"
    }
   ],
   "source": [
    "@latexify.with_latex\n",
    "def P2(x):\n",
    "    return (x**3) -x -1\n",
    "P2"
   ]
  },
  {
   "cell_type": "code",
   "execution_count": 130,
   "id": "84496373",
   "metadata": {},
   "outputs": [],
   "source": [
    "erroPX = 0.002"
   ]
  },
  {
   "cell_type": "code",
   "execution_count": 131,
   "id": "1ad37a81",
   "metadata": {},
   "outputs": [
    {
     "name": "stdout",
     "output_type": "stream",
     "text": [
      "1.3692077727952165\n",
      "raíz: 1.3247233059310892, iterações: 4\n"
     ]
    }
   ],
   "source": [
    "result = metSecante(P2, 1.5, 1.7, erroPX)\n"
   ]
  },
  {
   "cell_type": "markdown",
   "id": "7bcafa79",
   "metadata": {},
   "source": [
    "Mais um exemplo:"
   ]
  },
  {
   "cell_type": "code",
   "execution_count": 137,
   "id": "a9a31020",
   "metadata": {},
   "outputs": [
    {
     "name": "stdout",
     "output_type": "stream",
     "text": [
      "-0.3979400086720377\n"
     ]
    }
   ],
   "source": [
    "@latexify.with_latex\n",
    "def P3(x):\n",
    "    return x*math.log(x,10) -1\n",
    "P3\n",
    "print(P3(2))"
   ]
  },
  {
   "cell_type": "code",
   "execution_count": 136,
   "id": "4fdd0a04",
   "metadata": {},
   "outputs": [
    {
     "ename": "Exception",
     "evalue": "x0 invalido",
     "output_type": "error",
     "traceback": [
      "\u001b[0;31m---------------------------------------------------------------------------\u001b[0m",
      "\u001b[0;31mException\u001b[0m                                 Traceback (most recent call last)",
      "Cell \u001b[0;32mIn [136], line 5\u001b[0m\n\u001b[1;32m      2\u001b[0m b0 \u001b[38;5;241m=\u001b[39m \u001b[38;5;241m3\u001b[39m\n\u001b[1;32m      3\u001b[0m err \u001b[38;5;241m=\u001b[39m \u001b[38;5;241m0.002\u001b[39m\n\u001b[0;32m----> 5\u001b[0m metSecante(P3, a0,b0, err)\n",
      "Cell \u001b[0;32mIn [128], line 3\u001b[0m, in \u001b[0;36mmetSecante\u001b[0;34m(func, x0, x1, erro)\u001b[0m\n\u001b[1;32m      2\u001b[0m \u001b[38;5;28;01mdef\u001b[39;00m \u001b[38;5;21mmetSecante\u001b[39m(func,x0,x1,erro):\n\u001b[0;32m----> 3\u001b[0m     \u001b[38;5;28;01mif\u001b[39;00m func(x0) \u001b[38;5;241m<\u001b[39m \u001b[38;5;241m0\u001b[39m: \u001b[38;5;28;01mraise\u001b[39;00m \u001b[38;5;167;01mException\u001b[39;00m(\u001b[38;5;124m\"\u001b[39m\u001b[38;5;124mx0 invalido\u001b[39m\u001b[38;5;124m\"\u001b[39m)\n\u001b[1;32m      4\u001b[0m     \u001b[38;5;28;01mif\u001b[39;00m func(x1) \u001b[38;5;241m<\u001b[39m \u001b[38;5;241m0\u001b[39m: \u001b[38;5;28;01mraise\u001b[39;00m Exceptio(\u001b[38;5;124m\"\u001b[39m\u001b[38;5;124mx1 invalido\u001b[39m\u001b[38;5;124m\"\u001b[39m)\n\u001b[1;32m      5\u001b[0m     apply \u001b[38;5;241m=\u001b[39m \u001b[38;5;28;01mTrue\u001b[39;00m\n",
      "\u001b[0;31mException\u001b[0m: x0 invalido"
     ]
    }
   ],
   "source": [
    "a0 = 2\n",
    "b0 = 3\n",
    "err = 0.002\n",
    "\n",
    "metSecante(P3, a0,b0, err)"
   ]
  },
  {
   "cell_type": "code",
   "execution_count": null,
   "id": "6b65690d",
   "metadata": {},
   "outputs": [],
   "source": []
  },
  {
   "cell_type": "code",
   "execution_count": null,
   "id": "aaaa133d",
   "metadata": {},
   "outputs": [],
   "source": []
  }
 ],
 "metadata": {
  "kernelspec": {
   "display_name": "Python 3 (ipykernel)",
   "language": "python",
   "name": "python3"
  },
  "language_info": {
   "codemirror_mode": {
    "name": "ipython",
    "version": 3
   },
   "file_extension": ".py",
   "mimetype": "text/x-python",
   "name": "python",
   "nbconvert_exporter": "python",
   "pygments_lexer": "ipython3",
   "version": "3.8.10"
  }
 },
 "nbformat": 4,
 "nbformat_minor": 5
}
