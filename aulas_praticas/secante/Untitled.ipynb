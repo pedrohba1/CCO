{
 "cells": [
  {
   "cell_type": "markdown",
   "id": "8781774d",
   "metadata": {},
   "source": [
    "# Raíz de função pelo método da secante\n"
   ]
  },
  {
   "cell_type": "code",
   "execution_count": 71,
   "id": "7e2bdec1",
   "metadata": {},
   "outputs": [],
   "source": [
    "import latexify\n",
    "import math"
   ]
  },
  {
   "cell_type": "markdown",
   "id": "a7b8614e",
   "metadata": {},
   "source": [
    "função  de iteração g(x) do método da secante:"
   ]
  },
  {
   "cell_type": "code",
   "execution_count": 72,
   "id": "9087b6de",
   "metadata": {},
   "outputs": [
    {
     "data": {
      "text/latex": [
       "$$ \\displaystyle \\mathrm{g}(x0, x1, f)\\triangleq \\frac{x0\\mathrm{f}\\left(x1\\right) - x1\\mathrm{f}\\left(x0\\right)}{\\mathrm{f}\\left(x1\\right) - \\mathrm{f}\\left(x0\\right)} $$"
      ],
      "text/plain": [
       "<latexify.core.with_latex.<locals>._LatexifiedFunction at 0x7f80ee68ee80>"
      ]
     },
     "execution_count": 72,
     "metadata": {},
     "output_type": "execute_result"
    }
   ],
   "source": [
    "@latexify.with_latex\n",
    "def g(x0, x1, f):\n",
    "    return (x0 * f(x1) - x1 *f(x0))/ (f(x1) - f(x0)) \n",
    "g"
   ]
  },
  {
   "cell_type": "markdown",
   "id": "044210ac",
   "metadata": {},
   "source": [
    "Condições de parada abaixo. 1 é verdadeiro, ou seja, pararia, enquanto 0 é falso."
   ]
  },
  {
   "cell_type": "code",
   "execution_count": 73,
   "id": "282498d6",
   "metadata": {},
   "outputs": [
    {
     "data": {
      "text/latex": [
       "$$ \\displaystyle \\mathrm{parada1}(f, xk, erro)\\triangleq \\left\\{ \\begin{array}{ll} 1, & \\mathrm{if} \\ \\left|{\\mathrm{f}\\left(xk\\right)}\\right|\\le erro \\\\ 0, & \\mathrm{otherwise} \\end{array} \\right. $$"
      ],
      "text/plain": [
       "<latexify.core.with_latex.<locals>._LatexifiedFunction at 0x7f80ec425f70>"
      ]
     },
     "execution_count": 73,
     "metadata": {},
     "output_type": "execute_result"
    }
   ],
   "source": [
    "@latexify.with_latex\n",
    "def parada1(f,xk, erro):\n",
    "    if abs(f(xk)) <= erro: return 1\n",
    "    else: return 0\n",
    "parada1"
   ]
  },
  {
   "cell_type": "code",
   "execution_count": 74,
   "id": "5a1a7f9d",
   "metadata": {},
   "outputs": [
    {
     "data": {
      "text/latex": [
       "$$ \\displaystyle \\mathrm{parada2}(xkPlus1, xk, erro)\\triangleq \\left\\{ \\begin{array}{ll} 1, & \\mathrm{if} \\ \\left|{\\frac{xkPlus1 - xk}{xkPlus1}}\\right|\\le erro \\\\ 0, & \\mathrm{otherwise} \\end{array} \\right. $$"
      ],
      "text/plain": [
       "<latexify.core.with_latex.<locals>._LatexifiedFunction at 0x7f80f01a8e50>"
      ]
     },
     "execution_count": 74,
     "metadata": {},
     "output_type": "execute_result"
    }
   ],
   "source": [
    "@latexify.with_latex\n",
    "def parada2(xkPlus1,xk, erro):\n",
    "    if abs((xkPlus1 - xk) / xkPlus1 )  <= erro: return 1\n",
    "    else: return 0\n",
    "parada2"
   ]
  },
  {
   "cell_type": "code",
   "execution_count": 128,
   "id": "5e006477",
   "metadata": {},
   "outputs": [],
   "source": [
    "\n",
    "# a função inteira é passada como parâmetro\n",
    "def metSecante(func,x0,x1,erro):\n",
    "    if func(x0) < 0: raise Exception(\"x0 invalido\")\n",
    "    if func(x1) < 0: raise Exceptio(\"x1 invalido\")\n",
    "    apply = True\n",
    "    xk= g(x0,x1,func)\n",
    "    xkMinus1 = x1\n",
    "    print(xk)\n",
    "    iter = 1\n",
    "    while apply:\n",
    "        if parada1(func, xk, erro) == 1:\n",
    "            apply = False\n",
    "            print(\"raíz: {}, iterações: {}\".format(xk,iter ))\n",
    "            return xk\n",
    "        if (parada2(xk, xkMinus1, erro)) == 1:\n",
    "            apply = False\n",
    "            print(\"raíz: {}\".format(xk))\n",
    "            return xk\n",
    "        if iter > 500: \n",
    "            print(\"excedeu limite\")\n",
    "            return -1\n",
    "        xkPlus1 = g(xkMinus1, xk,func)\n",
    "        xkMinus1 = xk\n",
    "        xk = xkPlus1\n",
    "        iter+=1\n",
    "        \n",
    "    \n",
    "        \n",
    "    "
   ]
  },
  {
   "cell_type": "markdown",
   "id": "7a26f056",
   "metadata": {},
   "source": [
    "Abaixo, uma função para usar como teste"
   ]
  },
  {
   "cell_type": "code",
   "execution_count": 129,
   "id": "86c396d7",
   "metadata": {},
   "outputs": [
    {
     "data": {
      "text/latex": [
       "$$ \\displaystyle \\mathrm{P2}(x)\\triangleq x^{3} - x - 1 $$"
      ],
      "text/plain": [
       "<latexify.core.with_latex.<locals>._LatexifiedFunction at 0x7f80dd0bea30>"
      ]
     },
     "execution_count": 129,
     "metadata": {},
     "output_type": "execute_result"
    }
   ],
   "source": [
    "@latexify.with_latex\n",
    "def P2(x):\n",
    "    return (x**3) -x -1\n",
    "P2"
   ]
  },
  {
   "cell_type": "code",
   "execution_count": 130,
   "id": "e16b56bf",
   "metadata": {},
   "outputs": [],
   "source": [
    "erroPX = 0.002"
   ]
  },
  {
   "cell_type": "code",
   "execution_count": 131,
   "id": "cb9c21a0",
   "metadata": {},
   "outputs": [
    {
     "name": "stdout",
     "output_type": "stream",
     "text": [
      "1.3692077727952165\n",
      "raíz: 1.3247233059310892, iterações: 4\n"
     ]
    }
   ],
   "source": [
    "result = metSecante(P2, 1.5, 1.7, erroPX)\n"
   ]
  },
  {
   "cell_type": "code",
   "execution_count": null,
   "id": "3b99f599",
   "metadata": {},
   "outputs": [],
   "source": []
  },
  {
   "cell_type": "code",
   "execution_count": null,
   "id": "dd6aacc4",
   "metadata": {},
   "outputs": [],
   "source": []
  }
 ],
 "metadata": {
  "kernelspec": {
   "display_name": "Python 3 (ipykernel)",
   "language": "python",
   "name": "python3"
  },
  "language_info": {
   "codemirror_mode": {
    "name": "ipython",
    "version": 3
   },
   "file_extension": ".py",
   "mimetype": "text/x-python",
   "name": "python",
   "nbconvert_exporter": "python",
   "pygments_lexer": "ipython3",
   "version": "3.8.10"
  }
 },
 "nbformat": 4,
 "nbformat_minor": 5
}
