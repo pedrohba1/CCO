{
 "cells": [
  {
   "cell_type": "markdown",
   "id": "ad911210",
   "metadata": {},
   "source": [
    "Seja o polinomio P(x) = 3x^5 + x -5 encontrei ao menos uma de suas raízas pelos métodos de Newton-Raphson e falsa posição modificado e ao final compare seus desempenhos. A tolerância é 0.002"
   ]
  },
  {
   "cell_type": "code",
   "execution_count": 24,
   "id": "69cbdc5d",
   "metadata": {},
   "outputs": [],
   "source": [
    "import latexify\n",
    "import math"
   ]
  },
  {
   "cell_type": "code",
   "execution_count": 25,
   "id": "bfc0629a",
   "metadata": {},
   "outputs": [
    {
     "data": {
      "text/latex": [
       "$$ \\displaystyle \\mathrm{P}(x)\\triangleq 3x^{5} + x - 5 $$"
      ],
      "text/plain": [
       "<latexify.core.with_latex.<locals>._LatexifiedFunction at 0x7facd74fb730>"
      ]
     },
     "execution_count": 25,
     "metadata": {},
     "output_type": "execute_result"
    }
   ],
   "source": [
    "@latexify.with_latex\n",
    "def P(x):\n",
    "    return 3*(x**5) +x -5\n",
    "P"
   ]
  },
  {
   "cell_type": "code",
   "execution_count": 26,
   "id": "e6cfbfe0",
   "metadata": {},
   "outputs": [
    {
     "data": {
      "text/latex": [
       "$$ \\displaystyle \\mathrm{P2}(x)\\triangleq x^{3} - x - 1 $$"
      ],
      "text/plain": [
       "<latexify.core.with_latex.<locals>._LatexifiedFunction at 0x7facd74fb6d0>"
      ]
     },
     "execution_count": 26,
     "metadata": {},
     "output_type": "execute_result"
    }
   ],
   "source": [
    "@latexify.with_latex\n",
    "def P2(x):\n",
    "    return (x**3) -x -1\n",
    "P2"
   ]
  },
  {
   "cell_type": "code",
   "execution_count": 27,
   "id": "12f4e328",
   "metadata": {},
   "outputs": [
    {
     "data": {
      "text/latex": [
       "$$ \\displaystyle \\mathrm{pondera}(a, b, func)\\triangleq \\frac{a\\left|{\\mathrm{func}\\left(b\\right)}\\right| + b\\left|{\\mathrm{func}\\left(a\\right)}\\right|}{\\left|{\\mathrm{func}\\left(b\\right)}\\right| + \\left|{\\mathrm{func}\\left(a\\right)}\\right|} $$"
      ],
      "text/plain": [
       "<latexify.core.with_latex.<locals>._LatexifiedFunction at 0x7facd7480e50>"
      ]
     },
     "execution_count": 27,
     "metadata": {},
     "output_type": "execute_result"
    }
   ],
   "source": [
    "\n",
    "@latexify.with_latex\n",
    "def pondera(a,b, func):\n",
    "    return (a*abs(func(b)) + b*abs(func(a)))/ (abs(func(b)) + abs(func(a))) \n",
    "pondera\n"
   ]
  },
  {
   "cell_type": "code",
   "execution_count": 28,
   "id": "0239fa4b",
   "metadata": {},
   "outputs": [
    {
     "data": {
      "text/latex": [
       "$$ \\displaystyle \\mathrm{ponderaFbDiv2}(a, b, func)\\triangleq \\frac{a\\left|{\\frac{\\mathrm{func}\\left(b\\right)}{2}}\\right| + b\\left|{\\mathrm{func}\\left(a\\right)}\\right|}{\\left|{\\frac{\\mathrm{func}\\left(b\\right)}{2}}\\right| + \\left|{\\mathrm{func}\\left(a\\right)}\\right|} $$"
      ],
      "text/plain": [
       "<latexify.core.with_latex.<locals>._LatexifiedFunction at 0x7facd7480ee0>"
      ]
     },
     "execution_count": 28,
     "metadata": {},
     "output_type": "execute_result"
    }
   ],
   "source": [
    "@latexify.with_latex\n",
    "def ponderaFbDiv2(a,b, func):\n",
    "    return (a*abs(func(b)/2) + b*abs(func(a)))/ (abs(func(b)/2) + abs(func(a)))\n",
    "ponderaFbDiv2\n"
   ]
  },
  {
   "cell_type": "code",
   "execution_count": 29,
   "id": "dea09c4d",
   "metadata": {},
   "outputs": [
    {
     "data": {
      "text/latex": [
       "$$ \\displaystyle \\mathrm{ponderaFaDiv2}(a, b, func)\\triangleq \\frac{a\\left|{\\mathrm{func}\\left(b\\right)}\\right| + b\\left|{\\frac{\\mathrm{func}\\left(a\\right)}{2}}\\right|}{\\left|{\\mathrm{func}\\left(b\\right)}\\right| + \\left|{\\frac{\\mathrm{func}\\left(a\\right)}{2}}\\right|} $$"
      ],
      "text/plain": [
       "<latexify.core.with_latex.<locals>._LatexifiedFunction at 0x7facd7480340>"
      ]
     },
     "execution_count": 29,
     "metadata": {},
     "output_type": "execute_result"
    }
   ],
   "source": [
    "@latexify.with_latex\n",
    "def ponderaFaDiv2(a,b, func):\n",
    "    return (a*abs(func(b)) + b*abs(func(a)/2))/ (abs(func(b)) + abs(func(a)/2)) \n",
    "ponderaFaDiv2\n"
   ]
  },
  {
   "cell_type": "markdown",
   "id": "02e54830",
   "metadata": {},
   "source": [
    "<h2> Método FPM </h2>"
   ]
  },
  {
   "cell_type": "code",
   "execution_count": 30,
   "id": "495d42f0",
   "metadata": {},
   "outputs": [],
   "source": [
    "a0 = 1\n",
    "b0 = 2\n",
    "xk = 0.3846\n",
    "err = 0.002"
   ]
  },
  {
   "cell_type": "code",
   "execution_count": 31,
   "id": "62670411",
   "metadata": {},
   "outputs": [],
   "source": [
    "\n",
    "def FPM(a,b,err, func):\n",
    "    iterations = 0\n",
    "    maxIterations = 1000\n",
    "    \n",
    "    apply = True\n",
    "    \n",
    "    \n",
    "    # condições de aplicação:\n",
    "    # f(a0) < 0\n",
    "    # f(b0) > 0\n",
    "    # f(a)*f(b) <0\n",
    "    # se algum dos dois for falso, não continua\n",
    "    \n",
    "    if (func(a) >= 0):\n",
    "        apply = False\n",
    "    if (func(b) <= 0):\n",
    "        apply = False\n",
    "    if (func(a) * func(b) >= 0):\n",
    "        apply: False\n",
    "    \n",
    "\n",
    "           \n",
    "    x1 = pondera(a,b,func)\n",
    "    # definição de novo intervalo\n",
    "    if abs(func(x1)) <= err:\n",
    "        print(\"intervalo {}-{}  raíz encontrada: {}\".format(a, b,x1))\n",
    "        return a,b,x1\n",
    "\n",
    "    if func(a) * func(x1) < 0:\n",
    "        b = x1\n",
    "    else: a = x1\n",
    "\n",
    "    \n",
    "    divCondition = \"none\"\n",
    "    while apply:\n",
    "        if iterations > maxIterations: \n",
    "            print(\"excedeu limite\")\n",
    "            return\n",
    "        \n",
    "        # definição de novo x\n",
    "        if divCondition == \"none\":\n",
    "            x2 = pondera(a,b,func)    \n",
    "        if divCondition == \"fa/2\":\n",
    "            x2 = ponderaFaDiv2(a,b,func)\n",
    "        if divCondition == \"fb/2\":\n",
    "            x2 = ponderaFbDiv2(a,b,func)\n",
    "        \n",
    "        if abs(func(x2)) <= err:\n",
    "            print(\"iteração {}, intervalo {}{} x2: {}\".format(iterations, a, b,x2))\n",
    "            return a,b,x2\n",
    "\n",
    "        if func(a) * func(x2) < 0:\n",
    "            b = x2\n",
    "        else: a = x2\n",
    "        \n",
    "        # escolher qual mudar os valores\n",
    "        if func(x1) * func(x2) >0:\n",
    "            if func(a)* func(x1) < 0:\n",
    "                # f(a)/2 é usado na função de ponderação\n",
    "                divCondition = \"fa/2\"\n",
    "            else:\n",
    "                #f(b)/2 é usado na função de ponderação\n",
    "                divCondition = \"fb/2\"\n",
    "                \n",
    "        # não muda os valores se não cair no if menos aninhando acima\n",
    "        divCondition = \"none\"\n",
    "        \n",
    "                \n",
    "                \n",
    "        \n",
    "        print(\"iteração {}, intervalo {}{} x2: {}\".format(iterations, a, b,x2))\n",
    "        iterations +=1\n",
    "            \n",
    "    return x0\n",
    "\n",
    "\n"
   ]
  },
  {
   "cell_type": "code",
   "execution_count": 32,
   "id": "bce57d87",
   "metadata": {},
   "outputs": [
    {
     "name": "stdout",
     "output_type": "stream",
     "text": [
      "iteração 0, intervalo 1.25311203319502072 x2: 1.2531120331950207\n",
      "iteração 1, intervalo 1.29343740191868342 x2: 1.2934374019186834\n",
      "iteração 2, intervalo 1.31128102148723442 x2: 1.3112810214872344\n",
      "iteração 3, intervalo 1.31898850356646282 x2: 1.3189885035664628\n",
      "iteração 4, intervalo 1.3222827174657962 x2: 1.322282717465796\n",
      "iteração 5, intervalo 1.32368429385516072 x2: 1.3236842938551607\n",
      "iteração 6, intervalo 1.32368429385516072 x2: 1.3242794617319507\n"
     ]
    },
    {
     "data": {
      "text/plain": [
       "(1.3236842938551607, 2, 1.3242794617319507)"
      ]
     },
     "execution_count": 32,
     "metadata": {},
     "output_type": "execute_result"
    }
   ],
   "source": [
    " FPM(a0,b0,err,P2)"
   ]
  },
  {
   "cell_type": "markdown",
   "id": "fb283222",
   "metadata": {},
   "source": [
    "<h2> Método Newton-Raphson</h2>"
   ]
  },
  {
   "cell_type": "code",
   "execution_count": null,
   "id": "ea5979ea",
   "metadata": {},
   "outputs": [],
   "source": []
  },
  {
   "cell_type": "code",
   "execution_count": null,
   "id": "78ed7d1c",
   "metadata": {},
   "outputs": [],
   "source": []
  },
  {
   "cell_type": "code",
   "execution_count": null,
   "id": "15a3de81",
   "metadata": {},
   "outputs": [],
   "source": []
  }
 ],
 "metadata": {
  "kernelspec": {
   "display_name": "Python 3 (ipykernel)",
   "language": "python",
   "name": "python3"
  },
  "language_info": {
   "codemirror_mode": {
    "name": "ipython",
    "version": 3
   },
   "file_extension": ".py",
   "mimetype": "text/x-python",
   "name": "python",
   "nbconvert_exporter": "python",
   "pygments_lexer": "ipython3",
   "version": "3.8.10"
  }
 },
 "nbformat": 4,
 "nbformat_minor": 5
}
