{
 "cells": [
  {
   "cell_type": "markdown",
   "id": "ad911210",
   "metadata": {},
   "source": [
    "Seja o polinomio P(x) = 3x^5 + x -5 encontrei ao menos uma de suas raízas pelos métodos de Newton-Raphson e falsa posição modificado e ao final compare seus desempenhos. A tolerância é 0.002"
   ]
  },
  {
   "cell_type": "code",
   "execution_count": 31,
   "id": "69cbdc5d",
   "metadata": {},
   "outputs": [],
   "source": [
    "import latexify\n",
    "import math"
   ]
  },
  {
   "cell_type": "code",
   "execution_count": 32,
   "id": "bfc0629a",
   "metadata": {},
   "outputs": [
    {
     "data": {
      "text/latex": [
       "$$ \\displaystyle \\mathrm{P}(x)\\triangleq 3x^{5} + x - 5 $$"
      ],
      "text/plain": [
       "<latexify.core.with_latex.<locals>._LatexifiedFunction at 0x7fa3b004c850>"
      ]
     },
     "execution_count": 32,
     "metadata": {},
     "output_type": "execute_result"
    }
   ],
   "source": [
    "@latexify.with_latex\n",
    "def P(x):\n",
    "    return 3*(x**5) +x -5\n",
    "P"
   ]
  },
  {
   "cell_type": "markdown",
   "id": "02e54830",
   "metadata": {},
   "source": [
    "<h2> Método FPM </h2>"
   ]
  },
  {
   "cell_type": "code",
   "execution_count": 33,
   "id": "495d42f0",
   "metadata": {},
   "outputs": [],
   "source": [
    "a0 = 0\n",
    "b0 = 2\n",
    "xk = 0.3846\n",
    "err = 0.002"
   ]
  },
  {
   "cell_type": "code",
   "execution_count": 38,
   "id": "62670411",
   "metadata": {},
   "outputs": [],
   "source": [
    "\n",
    "def FPM(a,b, func):\n",
    "    x0 = a\n",
    "    b0 = b\n",
    "    if func(a) < 0 and func(b) > 0: \n",
    "        return 1\n",
    "    \n",
    "\n",
    "    if func(a) * func(b <0):\n",
    "        return\n",
    "    return a\n",
    "\n",
    "\n"
   ]
  },
  {
   "cell_type": "markdown",
   "id": "fb283222",
   "metadata": {},
   "source": [
    "<h2> Método Newton-Raphson</h2>"
   ]
  },
  {
   "cell_type": "code",
   "execution_count": null,
   "id": "ea5979ea",
   "metadata": {},
   "outputs": [],
   "source": [
    "x"
   ]
  }
 ],
 "metadata": {
  "kernelspec": {
   "display_name": "Python 3 (ipykernel)",
   "language": "python",
   "name": "python3"
  },
  "language_info": {
   "codemirror_mode": {
    "name": "ipython",
    "version": 3
   },
   "file_extension": ".py",
   "mimetype": "text/x-python",
   "name": "python",
   "nbconvert_exporter": "python",
   "pygments_lexer": "ipython3",
   "version": "3.8.10"
  }
 },
 "nbformat": 4,
 "nbformat_minor": 5
}
