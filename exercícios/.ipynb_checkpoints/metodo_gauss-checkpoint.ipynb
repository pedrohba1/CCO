{
 "cells": [
  {
   "cell_type": "markdown",
   "id": "81d26e4e",
   "metadata": {},
   "source": [
    "# Algoritmo do método de Gauss"
   ]
  },
  {
   "cell_type": "code",
   "execution_count": 31,
   "id": "e0347d3e",
   "metadata": {},
   "outputs": [],
   "source": [
    "import numpy as np\n",
    "import latexify\n"
   ]
  },
  {
   "cell_type": "code",
   "execution_count": 36,
   "id": "0ec3ebb5",
   "metadata": {},
   "outputs": [],
   "source": [
    "m = [[1.50, 5.40, 3.30, 10.0]\n",
    "     ,[4.20, 2.30, 4.50, 11.70],\n",
    "     [2.70, 5.70, 7.80, 8.90]]\n",
    "\n",
    "m2 = [[2,3,-1,5],\n",
    "    [4,4,-3,3],\n",
    "    [2,-3,1,1]\n",
    "]"
   ]
  },
  {
   "cell_type": "code",
   "execution_count": 37,
   "id": "b9b2bc68",
   "metadata": {},
   "outputs": [],
   "source": [
    "def pivota(La, Lb,  numerand, pivot):\n",
    "    print((numerand/pivot)* np.array(La))\n",
    "    Lb = np.array(Lb) - ((numerand/pivot)* np.array(La)) \n",
    "    return Lb\n"
   ]
  },
  {
   "cell_type": "code",
   "execution_count": 38,
   "id": "4539e1d4",
   "metadata": {},
   "outputs": [
    {
     "name": "stdout",
     "output_type": "stream",
     "text": [
      "[ 4.  6. -2. 10.]\n",
      "[ 0. -2. -1. -7.]\n"
     ]
    }
   ],
   "source": [
    "print(pivota(m2[0], m2[1],  4, 2))"
   ]
  },
  {
   "cell_type": "code",
   "execution_count": null,
   "id": "a2f4df8c",
   "metadata": {},
   "outputs": [],
   "source": []
  },
  {
   "cell_type": "code",
   "execution_count": null,
   "id": "0193c5d5",
   "metadata": {},
   "outputs": [],
   "source": []
  }
 ],
 "metadata": {
  "kernelspec": {
   "display_name": "Python 3 (ipykernel)",
   "language": "python",
   "name": "python3"
  },
  "language_info": {
   "codemirror_mode": {
    "name": "ipython",
    "version": 3
   },
   "file_extension": ".py",
   "mimetype": "text/x-python",
   "name": "python",
   "nbconvert_exporter": "python",
   "pygments_lexer": "ipython3",
   "version": "3.8.10"
  }
 },
 "nbformat": 4,
 "nbformat_minor": 5
}
